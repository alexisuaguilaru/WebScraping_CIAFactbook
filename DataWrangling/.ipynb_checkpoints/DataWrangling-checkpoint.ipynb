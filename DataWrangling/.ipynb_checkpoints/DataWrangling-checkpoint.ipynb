{
 "cells": [
  {
   "cell_type": "code",
   "execution_count": null,
   "id": "bkHC",
   "metadata": {},
   "outputs": [],
   "source": [
    "# 0. Import Libraries"
   ]
  },
  {
   "cell_type": "code",
   "execution_count": null,
   "id": "lEQa",
   "metadata": {},
   "outputs": [],
   "source": [
    "# Essential libraries for Marimo\n",
    "\n",
    "import marimo as mo"
   ]
  },
  {
   "cell_type": "markdown",
   "id": "Hbol",
   "metadata": {},
   "source": [
    "<img src='https://raw.githubusercontent.com/alexisuaguilaru/WebScraping_CIAFactbook/refs/heads/main/Resources/Proyecto03_DataWrangling_AlexisAguilar.png' alt='cover'>"
   ]
  },
  {
   "cell_type": "markdown",
   "id": "MJUe",
   "metadata": {},
   "source": [
    "# Introduction"
   ]
  },
  {
   "cell_type": "markdown",
   "id": "vblA",
   "metadata": {},
   "source": [
    "The following notebook aims to develop the different processes and decisions taken to perform the Data Wrangling on the dataset obtained from Web Scraping. The first step is to deal with the missing values of the different attributes based on the knowledge acquired from the Web Scraping itself and the meaning of the attributes. With these modifications the final dataset that will be used in the Exploratory Data Analysis is generated.\n",
    "\n",
    "Where the fundamental part of this notebook is found in [Data Wrangling](#2-data-wrangling) where the specific elements (countries) that do not have a specific attribute are also exposed, in addition to mentioning the value with which the missing values are imputed."
   ]
  },
  {
   "cell_type": "code",
   "execution_count": null,
   "id": "PKri",
   "metadata": {},
   "outputs": [],
   "source": [
    "# Import Libraries\n",
    "\n",
    "import pandas as pd"
   ]
  },
  {
   "cell_type": "code",
   "execution_count": null,
   "id": "Xref",
   "metadata": {},
   "outputs": [],
   "source": [
    "# Other code \n",
    "\n",
    "import SourceDataWrangling as src\n",
    "\n",
    "PATH_DATASET = './Dataset/'\n",
    "RANDOM_STATE = 8013"
   ]
  },
  {
   "cell_type": "markdown",
   "id": "SFPL",
   "metadata": {},
   "source": [
    "# 1. Load Dataset"
   ]
  },
  {
   "cell_type": "markdown",
   "id": "BYtC",
   "metadata": {},
   "source": [
    "First the dataset obtained from the Web Scraping process is loaded, in order to determine missing or null values in the different attributes.\n",
    "\n",
    "Based on [Requirements](../RequirementsDocument.pdf), the attributes are renamed to match those specified and those relevant to the study are retained.\n",
    "\n",
    "By performing the Web Scraping was acquired the knowledge to determine why several of the attributes have null values. In all cases it is related to the fact that the field is empty or its value is `0` or some other specific value."
   ]
  },
  {
   "cell_type": "code",
   "execution_count": null,
   "id": "RGSE",
   "metadata": {},
   "outputs": [],
   "source": [
    "WorldFactbook_Dataset_Raw = pd.read_csv(PATH_DATASET+'Dataset_Raw.csv')\n",
    "\n",
    "_features_renaming = {\n",
    "    'country_name' : 'name',\n",
    "    'real_gdp_purchasing_power_parity' : 'gdp',\n",
    "    'unemployment_rate' : 'unemployment',\n",
    "    'taxes_and_other_revenues' : 'taxes',\n",
    "    'debt_external' : 'debt',\n",
    "}\n",
    "\n",
    "Features = [\n",
    "    'name',\n",
    "    'area',\n",
    "    'population',\n",
    "    'gdp',\n",
    "    'unemployment',\n",
    "    'taxes',\n",
    "    'debt',\n",
    "    'exchange_rates',\n",
    "    'internet_users',\n",
    "    'internet_percent',\n",
    "    'airports',\n",
    "    'merchant_marine',\n",
    "    'military_expenditures',\n",
    "    'image_urls',\n",
    "]\n",
    "\n",
    "WorldFactbook_Dataset_Raw_1 = WorldFactbook_Dataset_Raw.rename(columns=_features_renaming)[Features]"
   ]
  },
  {
   "cell_type": "code",
   "execution_count": null,
   "id": "Kclp",
   "metadata": {},
   "outputs": [],
   "source": [
    "_sample_countries = WorldFactbook_Dataset_Raw_1.sample(5,random_state=RANDOM_STATE)\n",
    "mo.vstack(\n",
    "    [\n",
    "        mo.md('##Examples of Countries'),\n",
    "        _sample_countries,\n",
    "    ]\n",
    ")"
   ]
  },
  {
   "cell_type": "code",
   "execution_count": null,
   "id": "emfo",
   "metadata": {},
   "outputs": [],
   "source": [
    "_null_values_feature = WorldFactbook_Dataset_Raw_1.isnull().sum()\n",
    "mo.vstack(\n",
    "    [\n",
    "        mo.md('##Count of Null Values by Feature'),\n",
    "        _null_values_feature,\n",
    "    ]\n",
    ")"
   ]
  },
  {
   "cell_type": "markdown",
   "id": "Hstk",
   "metadata": {},
   "source": [
    "As shown, many of the attributes have missing values, which can be explained by using the knowledge acquired during Web Scraping. And as explained below some of these values can be properly imputed."
   ]
  },
  {
   "cell_type": "markdown",
   "id": "nWHF",
   "metadata": {},
   "source": [
    "# 2. Data Wrangling"
   ]
  },
  {
   "cell_type": "markdown",
   "id": "iLit",
   "metadata": {},
   "source": [
    "For each feature with missing or null values, it is determined, by means of what that feature represents, which value will be useb to fill the missing values."
   ]
  },
  {
   "cell_type": "markdown",
   "id": "ZHCJ",
   "metadata": {},
   "source": [
    "## 2.1 Drop `'World'` Entry"
   ]
  },
  {
   "cell_type": "markdown",
   "id": "ROlb",
   "metadata": {},
   "source": [
    "During Web Scraping, it was detected that global data (World) was extracted, so it will first be eliminated because it is not of interest for the study."
   ]
  },
  {
   "cell_type": "code",
   "execution_count": null,
   "id": "qnkX",
   "metadata": {},
   "outputs": [],
   "source": [
    "# Keeping all the countries except 'World'\n",
    "\n",
    "WorldFactbook_Dataset_Raw_2 = WorldFactbook_Dataset_Raw_1.query(\"name != 'World'\")\n",
    "\n",
    "WorldFactbook_Dataset_Raw_2.reset_index(drop=True,inplace=True)"
   ]
  },
  {
   "cell_type": "markdown",
   "id": "TqIu",
   "metadata": {},
   "source": [
    "## 2.2 `population` Feature"
   ]
  },
  {
   "cell_type": "markdown",
   "id": "Vxnm",
   "metadata": {},
   "source": [
    "Of the countries or entries that do not have `population` values, in most cases they are uninhabited islands or places with temporary inhabitants. Therefore, in both cases there are no inhabitants (population is zero)."
   ]
  },
  {
   "cell_type": "code",
   "execution_count": null,
   "id": "DnEU",
   "metadata": {},
   "outputs": [],
   "source": [
    "# Exploring countries without `population`\n",
    "\n",
    "WorldFactbook_Dataset_Raw_2.query(\"population != population\")"
   ]
  },
  {
   "cell_type": "code",
   "execution_count": null,
   "id": "ulZA",
   "metadata": {},
   "outputs": [],
   "source": [
    "# Filling missing values on `population` with 0\n",
    "\n",
    "WorldFactbook_Dataset_Raw_2__population = src.FillMissingValues(WorldFactbook_Dataset_Raw_2,'population',0)"
   ]
  },
  {
   "cell_type": "markdown",
   "id": "ecfG",
   "metadata": {},
   "source": [
    "## 2.3 `gdp` Feature"
   ]
  },
  {
   "cell_type": "markdown",
   "id": "Pvdt",
   "metadata": {},
   "source": [
    "Due to the importance that this feature represents for the study, it is necessary to be careful about the value assigned for imputation, but as many of the missing values are for islands, protected areas and oceans, the best value is `0`.\n",
    "\n",
    "In addition to all this, it should be considered that these islands or territories are incorporated to a country, so the value of its `GDP` could be equal to that of the country to which it belongs."
   ]
  },
  {
   "cell_type": "code",
   "execution_count": null,
   "id": "ZBYS",
   "metadata": {},
   "outputs": [],
   "source": [
    "# Exploring countries without `gdp`\n",
    "\n",
    "WorldFactbook_Dataset_Raw_2.query(\"gdp != gdp\")"
   ]
  },
  {
   "cell_type": "code",
   "execution_count": null,
   "id": "aLJB",
   "metadata": {},
   "outputs": [],
   "source": [
    "# Filling missing values on `gdp` with 0\n",
    "\n",
    "WorldFactbook_Dataset_Raw_2__gdp = src.FillMissingValues(WorldFactbook_Dataset_Raw_2,'gdp',0)"
   ]
  },
  {
   "cell_type": "markdown",
   "id": "nHfw",
   "metadata": {},
   "source": [
    "## 2.4 `unemployment` Feature"
   ]
  },
  {
   "cell_type": "markdown",
   "id": "xXTn",
   "metadata": {},
   "source": [
    "In several of the missing data are from non-productive islands or there is not enough data to determine the unemployment rate; therefore, under these considerations, the missing values can be imputed with `0`, although the mean could be used to indicate that they behave as the average unemployment rate of the countries."
   ]
  },
  {
   "cell_type": "code",
   "execution_count": null,
   "id": "AjVT",
   "metadata": {},
   "outputs": [],
   "source": [
    "# Exploring countries without `unemployment`\n",
    "\n",
    "WorldFactbook_Dataset_Raw_2.query(\"unemployment != unemployment\")"
   ]
  },
  {
   "cell_type": "code",
   "execution_count": null,
   "id": "pHFh",
   "metadata": {},
   "outputs": [],
   "source": [
    "# Filling missing values on `unemployment` with 0\n",
    "\n",
    "WorldFactbook_Dataset_Raw_2__unemployment = src.FillMissingValues(WorldFactbook_Dataset_Raw_2,'unemployment',0)"
   ]
  },
  {
   "cell_type": "markdown",
   "id": "NCOB",
   "metadata": {},
   "source": [
    "## 2.5 `taxes` Feature"
   ]
  },
  {
   "cell_type": "markdown",
   "id": "aqbW",
   "metadata": {},
   "source": [
    "Although many of the missing values belong to islands, taxes still apply, so these missing values in `taxes` should be imputed with the average of all countries. This is done to represent that they have a behavior similar to the global average."
   ]
  },
  {
   "cell_type": "code",
   "execution_count": null,
   "id": "TRpd",
   "metadata": {},
   "outputs": [],
   "source": [
    "# Exploring countries without `taxes`\n",
    "\n",
    "WorldFactbook_Dataset_Raw_2.query(\"taxes != taxes\")"
   ]
  },
  {
   "cell_type": "code",
   "execution_count": null,
   "id": "TXez",
   "metadata": {},
   "outputs": [],
   "source": [
    "# Filling missing values on `taxes` with its mean\n",
    "\n",
    "_mean_taxes = WorldFactbook_Dataset_Raw_2['taxes'].mean()\n",
    "WorldFactbook_Dataset_Raw_2__taxes = src.FillMissingValues(WorldFactbook_Dataset_Raw_2,'taxes',_mean_taxes)"
   ]
  },
  {
   "cell_type": "markdown",
   "id": "dNNg",
   "metadata": {},
   "source": [
    "## 2.6 `debt` Feature"
   ]
  },
  {
   "cell_type": "markdown",
   "id": "yCnT",
   "metadata": {},
   "source": [
    "Since there are many missing values in this feature, in addition to the fact that not all countries are islands or natural areas, this imputation becomes delicate.\n",
    "\n",
    "A candidate value for this imputation is to use the median of `debt`, because the median allows to indicate that these countries with missing values will have a behavior similar to `50%` of the countries with `debt`, that is, it is assumed that their debt is at most the median of `debt`."
   ]
  },
  {
   "cell_type": "code",
   "execution_count": null,
   "id": "wlCL",
   "metadata": {},
   "outputs": [],
   "source": [
    "# Exploring countries without `debt`\n",
    "\n",
    "WorldFactbook_Dataset_Raw_2.query(\"debt != debt\")"
   ]
  },
  {
   "cell_type": "code",
   "execution_count": null,
   "id": "kqZH",
   "metadata": {},
   "outputs": [],
   "source": [
    "# Filling missing values on `debt` with its mean\n",
    "\n",
    "_median_debt = WorldFactbook_Dataset_Raw_2['debt'].median()\n",
    "WorldFactbook_Dataset_Raw_2__debt = src.FillMissingValues(WorldFactbook_Dataset_Raw_2,'debt',_median_debt)"
   ]
  },
  {
   "cell_type": "markdown",
   "id": "wAgl",
   "metadata": {},
   "source": [
    "## 2.7 `exchange_rates` Feature"
   ]
  },
  {
   "cell_type": "markdown",
   "id": "rEll",
   "metadata": {},
   "source": [
    "In the countries that do not have this feature, two cases are detected: either they are islands belonging to a country or they do not have a national currency. Therefore, a manual imputation is performed for the missing values with the values of the corresponding countries and in the case that they do not have a national currency, it is left as `1`."
   ]
  },
  {
   "cell_type": "code",
   "execution_count": null,
   "id": "dGlV",
   "metadata": {},
   "outputs": [],
   "source": [
    "# Exploring countries without `exchange_rates`\n",
    "\n",
    "WorldFactbook_Dataset_Raw_2.query(\"exchange_rates != exchange_rates\")"
   ]
  },
  {
   "cell_type": "code",
   "execution_count": null,
   "id": "SdmI",
   "metadata": {},
   "outputs": [],
   "source": [
    "# Manual filling missing values on `exchange_rates`\n",
    "\n",
    "_index_missing__exchange_rates = WorldFactbook_Dataset_Raw_2.query(\"exchange_rates != exchange_rates\").index\n",
    "_filling_values__exchange_rates = [1,1.515,\n",
    "                                   10.746,0.924,\n",
    "                                   1.515,0.924,\n",
    "                                   1.515,10.746,\n",
    "                                   1.369,1.628,1,\n",
    "                                   1,0.782,\n",
    "                                   1.369,1.369]\n",
    "\n",
    "WorldFactbook_Dataset_Raw_2__exchange_rates = WorldFactbook_Dataset_Raw_2['exchange_rates'].copy()\n",
    "WorldFactbook_Dataset_Raw_2__exchange_rates.iloc[_index_missing__exchange_rates] = _filling_values__exchange_rates"
   ]
  },
  {
   "cell_type": "markdown",
   "id": "lgWD",
   "metadata": {},
   "source": [
    "## 2.8 `internet_users` Feature"
   ]
  },
  {
   "cell_type": "markdown",
   "id": "yOPj",
   "metadata": {},
   "source": [
    "In most cases these are uninhabited islands, protected areas or public information, so the `internet_users` feature does not have a value, i.e. it is `0`."
   ]
  },
  {
   "cell_type": "code",
   "execution_count": null,
   "id": "fwwy",
   "metadata": {},
   "outputs": [],
   "source": [
    "# Exploring countries without `internet_users`\n",
    "\n",
    "WorldFactbook_Dataset_Raw_2.query(\"internet_users != internet_users\")"
   ]
  },
  {
   "cell_type": "code",
   "execution_count": null,
   "id": "LJZf",
   "metadata": {},
   "outputs": [],
   "source": [
    "# Filling missing values on `internet_users` with 0\n",
    "\n",
    "WorldFactbook_Dataset_Raw_2__internet_users = src.FillMissingValues(WorldFactbook_Dataset_Raw_2,'internet_users',0)"
   ]
  },
  {
   "cell_type": "markdown",
   "id": "urSm",
   "metadata": {},
   "source": [
    "## 2.9 `internet_percent` Feature"
   ]
  },
  {
   "cell_type": "markdown",
   "id": "jxvo",
   "metadata": {},
   "source": [
    "As in `internet_users`, missing values in `internet_percent` are imputed with `0`."
   ]
  },
  {
   "cell_type": "code",
   "execution_count": null,
   "id": "mWxS",
   "metadata": {},
   "outputs": [],
   "source": [
    "# Exploring countries without `internet_percent`\n",
    "\n",
    "WorldFactbook_Dataset_Raw_2.query(\"internet_percent != internet_percent\")"
   ]
  },
  {
   "cell_type": "code",
   "execution_count": null,
   "id": "CcZR",
   "metadata": {},
   "outputs": [],
   "source": [
    "# Filling missing values on `internet_percent` with 0\n",
    "\n",
    "WorldFactbook_Dataset_Raw_2__internet_percent = src.FillMissingValues(WorldFactbook_Dataset_Raw_2,'internet_percent',0)"
   ]
  },
  {
   "cell_type": "markdown",
   "id": "YWSi",
   "metadata": {},
   "source": [
    "## 2.10 `airports` Feature"
   ]
  },
  {
   "cell_type": "markdown",
   "id": "zlud",
   "metadata": {},
   "source": [
    "Of the countries with missing values in `airports`, most are uninhabited islands or countries that have access to this infrastructure using other means. Therefore, missing values are imputed with `0`."
   ]
  },
  {
   "cell_type": "code",
   "execution_count": null,
   "id": "tZnO",
   "metadata": {},
   "outputs": [],
   "source": [
    "# Exploring countries without `airports`\n",
    "\n",
    "WorldFactbook_Dataset_Raw_2.query(\"airports != airports\")"
   ]
  },
  {
   "cell_type": "code",
   "execution_count": null,
   "id": "xvXZ",
   "metadata": {},
   "outputs": [],
   "source": [
    "# Filling missing values on `airports` with 0\n",
    "\n",
    "WorldFactbook_Dataset_Raw_2__airports = src.FillMissingValues(WorldFactbook_Dataset_Raw_2,'airports',0)"
   ]
  },
  {
   "cell_type": "markdown",
   "id": "CLip",
   "metadata": {},
   "source": [
    "## 2.11 `merchant_marine` Feature"
   ]
  },
  {
   "cell_type": "markdown",
   "id": "YECM",
   "metadata": {},
   "source": [
    "The fact that they do not have the `merchant_marine` attribute can be related to the fact that they are landlocked countries or regions, countries that do not have port infrastructure or are uninhabited islands. Therefore, in these three cases, `merchant_marine` is imputed with `0`."
   ]
  },
  {
   "cell_type": "code",
   "execution_count": null,
   "id": "cEAS",
   "metadata": {},
   "outputs": [],
   "source": [
    "# Exploring countries without `merchant_marine`\n",
    "\n",
    "WorldFactbook_Dataset_Raw_2.query(\"merchant_marine != merchant_marine\")"
   ]
  },
  {
   "cell_type": "code",
   "execution_count": null,
   "id": "iXej",
   "metadata": {},
   "outputs": [],
   "source": [
    "# Filling missing values on `merchant_marine` with 0\n",
    "\n",
    "WorldFactbook_Dataset_Raw_2__merchant_marine = src.FillMissingValues(WorldFactbook_Dataset_Raw_2,'merchant_marine',0)"
   ]
  },
  {
   "cell_type": "markdown",
   "id": "EJmg",
   "metadata": {},
   "source": [
    "## 2.12 `military_expenditures` Feature"
   ]
  },
  {
   "cell_type": "markdown",
   "id": "UmEG",
   "metadata": {},
   "source": [
    "Countries that do not have `military_expenditures` verify that they are islands, are not publicly available their data or do not have military expenditures. Although some of the countries do have military expenditures (although they are not publicly reported), the best strategy is to impute the missing values with the global average of `military_expenditures`; this is to indicate that they have a similar trend to the global behavior."
   ]
  },
  {
   "cell_type": "code",
   "execution_count": null,
   "id": "vEBW",
   "metadata": {},
   "outputs": [],
   "source": [
    "# Exploring countries without `military_expenditures`\n",
    "\n",
    "WorldFactbook_Dataset_Raw_2.query(\"military_expenditures != military_expenditures\")"
   ]
  },
  {
   "cell_type": "code",
   "execution_count": null,
   "id": "kLmu",
   "metadata": {},
   "outputs": [],
   "source": [
    "# Filling missing values on `military_expenditures` with its mean\n",
    "\n",
    "_median_military_expenditures = WorldFactbook_Dataset_Raw_2['military_expenditures'].median()\n",
    "WorldFactbook_Dataset_Raw_2__military_expenditures = src.FillMissingValues(WorldFactbook_Dataset_Raw_2,'military_expenditures',_median_military_expenditures)"
   ]
  },
  {
   "cell_type": "markdown",
   "id": "IpqN",
   "metadata": {},
   "source": [
    "## 2.13 `image_urls` Feature"
   ]
  },
  {
   "cell_type": "markdown",
   "id": "dxZZ",
   "metadata": {},
   "source": [
    "Of the countries that do not have the image of their flag, it is because the page [CIA: The World Factbook](https://www.cia.gov/the-world-factbook/) does not have the representative flag of those countries."
   ]
  },
  {
   "cell_type": "code",
   "execution_count": null,
   "id": "dlnW",
   "metadata": {},
   "outputs": [],
   "source": [
    "# Exploring countries without `image_urls`\n",
    "\n",
    "WorldFactbook_Dataset_Raw_2.query(\"image_urls != image_urls\")"
   ]
  },
  {
   "cell_type": "markdown",
   "id": "TTti",
   "metadata": {},
   "source": [
    "# 3. Dump Modified Dataset"
   ]
  },
  {
   "cell_type": "markdown",
   "id": "RKFZ",
   "metadata": {},
   "source": [
    "Once the missing values have been processed, manual adjustments are made on `name` for some special cases on the names. Afterwards, Data Wrangling is applied to the final dataset.\n",
    "\n",
    "Finally, the `gdp` values are encoded in categorical values following the conventions established in [Requirements](../RequirementsDocument.pdf).\n",
    "\n",
    "And with this last modification, the dataset is saved with the last modifications."
   ]
  },
  {
   "cell_type": "markdown",
   "id": "IaQp",
   "metadata": {},
   "source": [
    "## 3.1 Renaming Country Names"
   ]
  },
  {
   "cell_type": "markdown",
   "id": "IWgg",
   "metadata": {},
   "source": [
    "The names of the following entries are renamed using the consequent names:\n",
    "\n",
    "* Svalbard (sometimes referred to as Spitsbergen, the largest island in the archipelago) $\\to$ Svalbard\n",
    "\n",
    "* Baker Island, Howland Island, Jarvis Island, Johnston Atoll, Kingman Reef, Midway Islands, Palmyra Atoll $\\to$ United States Pacific Island Wildlife Refuges"
   ]
  },
  {
   "cell_type": "code",
   "execution_count": null,
   "id": "fCoF",
   "metadata": {},
   "outputs": [],
   "source": [
    "# Renaming some values in `name`\n",
    "\n",
    "WorldFactbook_Dataset_Raw_3 = WorldFactbook_Dataset_Raw_2.copy()\n",
    "\n",
    "_index_long_names = [217,240]\n",
    "_rename_long_names = ['Svalbard','United States Pacific Island Wildlife Refuges']\n",
    "\n",
    "WorldFactbook_Dataset_Raw_3.loc[_index_long_names,'name'] = _rename_long_names"
   ]
  },
  {
   "cell_type": "markdown",
   "id": "LkGn",
   "metadata": {},
   "source": [
    "## 3.2 Merge Individual Data Wrangling"
   ]
  },
  {
   "cell_type": "markdown",
   "id": "zVRe",
   "metadata": {},
   "source": [
    "From the different considerations and imputation values to perform the [Data Wrangling](#2-data-wrangling), they are applied to the final dataset, and it is checked that it has no missing values except in `image_urls`.\n",
    "\n",
    "As the last point is verified, the Data Wrangling has been properly performed on the dataset."
   ]
  },
  {
   "cell_type": "code",
   "execution_count": null,
   "id": "woaO",
   "metadata": {},
   "outputs": [],
   "source": [
    "# Applying Data Wrangling \n",
    "\n",
    "WorldFactbook_Dataset_Raw_3_Wrangling = WorldFactbook_Dataset_Raw_3.copy()\n",
    "\n",
    "DataWrangling_features = [\n",
    "    WorldFactbook_Dataset_Raw_2__population,\n",
    "    WorldFactbook_Dataset_Raw_2__gdp,\n",
    "    WorldFactbook_Dataset_Raw_2__unemployment,\n",
    "    WorldFactbook_Dataset_Raw_2__taxes,\n",
    "    WorldFactbook_Dataset_Raw_2__debt,\n",
    "    WorldFactbook_Dataset_Raw_2__exchange_rates,\n",
    "    WorldFactbook_Dataset_Raw_2__internet_users,\n",
    "    WorldFactbook_Dataset_Raw_2__internet_percent,\n",
    "    WorldFactbook_Dataset_Raw_2__airports,\n",
    "    WorldFactbook_Dataset_Raw_2__merchant_marine ,\n",
    "    WorldFactbook_Dataset_Raw_2__military_expenditures,\n",
    "]\n",
    "\n",
    "for _data_wrangling_feature in DataWrangling_features:\n",
    "    _feature = _data_wrangling_feature.name\n",
    "    WorldFactbook_Dataset_Raw_3_Wrangling[_feature] = _data_wrangling_feature"
   ]
  },
  {
   "cell_type": "code",
   "execution_count": null,
   "id": "HnMC",
   "metadata": {},
   "outputs": [],
   "source": [
    "mo.vstack(\n",
    "    [\n",
    "        mo.md('**Count of Null Values by Feature**'),\n",
    "        WorldFactbook_Dataset_Raw_3_Wrangling.isnull().sum(),\n",
    "    ]\n",
    ")"
   ]
  },
  {
   "cell_type": "markdown",
   "id": "wadT",
   "metadata": {},
   "source": [
    "## 3.3 Encode `gdp` Feature"
   ]
  },
  {
   "cell_type": "markdown",
   "id": "VCRE",
   "metadata": {},
   "source": [
    "Following the conventions and notation in [Requirements](../RequirementsDocument.pdf), the `gdp_encode` feature is generated based on `gdp` with the following rules:\n",
    "\n",
    "* `low-income` $\\implies$ `gdp` $\\le 1.0$ trillions\n",
    "\n",
    "* `average-income` $\\implies 1.0 <$ `gdp` $\\le 3.0$ trillions\n",
    "\n",
    "* `high-income` $\\implies$ `gdp` $3.0 >$ trillions"
   ]
  },
  {
   "cell_type": "code",
   "execution_count": null,
   "id": "hgqU",
   "metadata": {},
   "outputs": [],
   "source": [
    "# Encoding `gdp`\n",
    "\n",
    "WorldFactbook_Dataset = WorldFactbook_Dataset_Raw_3_Wrangling.copy()\n",
    "\n",
    "WorldFactbook_Dataset['gdp_encode'] = src.EncoderGDP(WorldFactbook_Dataset)\n",
    "\n",
    "\n",
    "_sample_countries = WorldFactbook_Dataset.sample(5,random_state=RANDOM_STATE)\n",
    "mo.vstack(\n",
    "    [\n",
    "        mo.md('**Examples of Processed Countries**'),\n",
    "        _sample_countries,\n",
    "    ]\n",
    ")"
   ]
  },
  {
   "cell_type": "markdown",
   "id": "PSUk",
   "metadata": {},
   "source": [
    "## 3.4 Dump Dataset"
   ]
  },
  {
   "cell_type": "markdown",
   "id": "mfOT",
   "metadata": {},
   "source": [
    "With the last modifications made, it proceeds with saving the dataset without missing values and with the pertinent modifications."
   ]
  },
  {
   "cell_type": "code",
   "execution_count": null,
   "id": "vGiW",
   "metadata": {},
   "outputs": [],
   "source": [
    "# Dumping dataset \n",
    "\n",
    "WorldFactbook_Dataset.to_csv(PATH_DATASET+'Dataset.csv',index=False)"
   ]
  },
  {
   "cell_type": "markdown",
   "id": "SYQT",
   "metadata": {},
   "source": [
    "# Conclusions"
   ]
  },
  {
   "cell_type": "markdown",
   "id": "bMrW",
   "metadata": {},
   "source": [
    "After carrying out different projects where Data Wrangling is applied as part of the data cleaning process, it is clear that this stage allows to collect many of these ideas and integrate new ones based on the knowledge of the problem we are working on. With this, it is necessary to know how to use domain knowledge to improve the accuracy of data cleaning."
   ]
  },
  {
   "cell_type": "markdown",
   "id": "PSQn",
   "metadata": {},
   "source": [
    "# References"
   ]
  },
  {
   "cell_type": "markdown",
   "id": "OfTS",
   "metadata": {},
   "source": [
    "* [1] [Proyecto 3: *Web Scraping con Scrapy*](../RequirementsDocument.pdf). Tinoco Martinez Sergio Rogelio\n",
    "* [2] DataFrame. Pandas. https://pandas.pydata.org/docs/reference/frame.html\n",
    "* [3] API Reference. Numpy. https://numpy.org/doc/stable/reference/index.html\n",
    "* [4] API Reference. Marimo. https://docs.marimo.io/api/"
   ]
  }
 ],
 "metadata": {},
 "nbformat": 4,
 "nbformat_minor": 5
}
